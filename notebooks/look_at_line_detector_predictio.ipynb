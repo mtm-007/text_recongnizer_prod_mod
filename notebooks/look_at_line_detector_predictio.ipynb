{
 "cells": [
  {
   "cell_type": "code",
   "execution_count": 1,
   "id": "746f14b8-1cc1-41f3-8190-1c14529eba8f",
   "metadata": {},
   "outputs": [],
   "source": [
    "%load_ext autoreload\n",
    "%autoreload 2"
   ]
  },
  {
   "cell_type": "code",
   "execution_count": 6,
   "id": "77a4bb8d-51a1-4419-9801-7f29b8843068",
   "metadata": {},
   "outputs": [],
   "source": [
    "import cv2\n",
    "import numpy as np\n",
    "import matplotlib.pyplot as plt\n",
    "%matplotlib inline\n",
    "\n",
    "try:\n",
    "    import text_recognizer\n",
    "except ImportError:\n",
    "    import sys\n",
    "    sys.path.append('..')\n",
    "\n",
    "from text_recognizer.datasets import IamDataset\n",
    "from text_recognizer.datasets.iam_paragraphs_dataset import IAMParagraphsDataset\n",
    "from text_recognizer.models.line_detector_model import LineDetectorModel\n",
    "from text_recognizer import util"
   ]
  },
  {
   "cell_type": "code",
   "execution_count": 7,
   "id": "71abadf4-36e2-4f42-8fd9-8f7af8e44b0b",
   "metadata": {},
   "outputs": [
    {
     "name": "stdout",
     "output_type": "stream",
     "text": [
      "Loading IAM paragraph crops and ground truth from image files...\n",
      "IAM Paragraphs Dataset\n",
      "Num classes: 3\n",
      "Train: (1229, 256, 256) (1229, 256, 256, 3)\n",
      "Test: (308, 256, 256) (308, 256, 256, 3)\n",
      "\n"
     ]
    }
   ],
   "source": [
    "paragraphs_dataset = IAMParagraphsDataset()\n",
    "paragraphs_dataset.load_or_generate_data()\n",
    "print(paragraphs_dataset)"
   ]
  },
  {
   "cell_type": "code",
   "execution_count": 11,
   "id": "120ffd21-c5bd-4668-8615-6c08f43eb035",
   "metadata": {},
   "outputs": [
    {
     "name": "stdout",
     "output_type": "stream",
     "text": [
      "Model: \"model_2\"\n",
      "__________________________________________________________________________________________________\n",
      " Layer (type)                Output Shape                 Param #   Connected to                  \n",
      "==================================================================================================\n",
      " input_3 (InputLayer)        [(None, None, None)]         0         []                            \n",
      "                                                                                                  \n",
      " lambda_2 (Lambda)           (None, None, None, 1)        0         ['input_3[0][0]']             \n",
      "                                                                                                  \n",
      " conv2d_44 (Conv2D)          (None, None, None, 16)       800       ['lambda_2[0][0]']            \n",
      "                                                                                                  \n",
      " conv2d_45 (Conv2D)          (None, None, None, 16)       12560     ['conv2d_44[0][0]']           \n",
      "                                                                                                  \n",
      " conv2d_46 (Conv2D)          (None, None, None, 16)       32        ['lambda_2[0][0]']            \n",
      "                                                                                                  \n",
      " add_14 (Add)                (None, None, None, 16)       0         ['conv2d_45[0][0]',           \n",
      "                                                                     'conv2d_46[0][0]']           \n",
      "                                                                                                  \n",
      " activation_14 (Activation)  (None, None, None, 16)       0         ['add_14[0][0]']              \n",
      "                                                                                                  \n",
      " conv2d_47 (Conv2D)          (None, None, None, 16)       12560     ['activation_14[0][0]']       \n",
      "                                                                                                  \n",
      " conv2d_48 (Conv2D)          (None, None, None, 16)       12560     ['conv2d_47[0][0]']           \n",
      "                                                                                                  \n",
      " conv2d_49 (Conv2D)          (None, None, None, 16)       272       ['activation_14[0][0]']       \n",
      "                                                                                                  \n",
      " add_15 (Add)                (None, None, None, 16)       0         ['conv2d_48[0][0]',           \n",
      "                                                                     'conv2d_49[0][0]']           \n",
      "                                                                                                  \n",
      " activation_15 (Activation)  (None, None, None, 16)       0         ['add_15[0][0]']              \n",
      "                                                                                                  \n",
      " conv2d_50 (Conv2D)          (None, None, None, 16)       12560     ['activation_15[0][0]']       \n",
      "                                                                                                  \n",
      " conv2d_51 (Conv2D)          (None, None, None, 16)       12560     ['conv2d_50[0][0]']           \n",
      "                                                                                                  \n",
      " conv2d_52 (Conv2D)          (None, None, None, 16)       272       ['activation_15[0][0]']       \n",
      "                                                                                                  \n",
      " add_16 (Add)                (None, None, None, 16)       0         ['conv2d_51[0][0]',           \n",
      "                                                                     'conv2d_52[0][0]']           \n",
      "                                                                                                  \n",
      " activation_16 (Activation)  (None, None, None, 16)       0         ['add_16[0][0]']              \n",
      "                                                                                                  \n",
      " conv2d_53 (Conv2D)          (None, None, None, 16)       12560     ['activation_16[0][0]']       \n",
      "                                                                                                  \n",
      " conv2d_54 (Conv2D)          (None, None, None, 16)       12560     ['conv2d_53[0][0]']           \n",
      "                                                                                                  \n",
      " conv2d_55 (Conv2D)          (None, None, None, 16)       272       ['activation_16[0][0]']       \n",
      "                                                                                                  \n",
      " add_17 (Add)                (None, None, None, 16)       0         ['conv2d_54[0][0]',           \n",
      "                                                                     'conv2d_55[0][0]']           \n",
      "                                                                                                  \n",
      " activation_17 (Activation)  (None, None, None, 16)       0         ['add_17[0][0]']              \n",
      "                                                                                                  \n",
      " conv2d_56 (Conv2D)          (None, None, None, 16)       12560     ['activation_17[0][0]']       \n",
      "                                                                                                  \n",
      " conv2d_57 (Conv2D)          (None, None, None, 16)       12560     ['conv2d_56[0][0]']           \n",
      "                                                                                                  \n",
      " conv2d_58 (Conv2D)          (None, None, None, 16)       272       ['activation_17[0][0]']       \n",
      "                                                                                                  \n",
      " add_18 (Add)                (None, None, None, 16)       0         ['conv2d_57[0][0]',           \n",
      "                                                                     'conv2d_58[0][0]']           \n",
      "                                                                                                  \n",
      " activation_18 (Activation)  (None, None, None, 16)       0         ['add_18[0][0]']              \n",
      "                                                                                                  \n",
      " conv2d_59 (Conv2D)          (None, None, None, 16)       12560     ['activation_18[0][0]']       \n",
      "                                                                                                  \n",
      " conv2d_60 (Conv2D)          (None, None, None, 16)       12560     ['conv2d_59[0][0]']           \n",
      "                                                                                                  \n",
      " conv2d_61 (Conv2D)          (None, None, None, 16)       272       ['activation_18[0][0]']       \n",
      "                                                                                                  \n",
      " add_19 (Add)                (None, None, None, 16)       0         ['conv2d_60[0][0]',           \n",
      "                                                                     'conv2d_61[0][0]']           \n",
      "                                                                                                  \n",
      " activation_19 (Activation)  (None, None, None, 16)       0         ['add_19[0][0]']              \n",
      "                                                                                                  \n",
      " conv2d_62 (Conv2D)          (None, None, None, 16)       12560     ['activation_19[0][0]']       \n",
      "                                                                                                  \n",
      " conv2d_63 (Conv2D)          (None, None, None, 16)       12560     ['conv2d_62[0][0]']           \n",
      "                                                                                                  \n",
      " conv2d_64 (Conv2D)          (None, None, None, 16)       272       ['activation_19[0][0]']       \n",
      "                                                                                                  \n",
      " add_20 (Add)                (None, None, None, 16)       0         ['conv2d_63[0][0]',           \n",
      "                                                                     'conv2d_64[0][0]']           \n",
      "                                                                                                  \n",
      " activation_20 (Activation)  (None, None, None, 16)       0         ['add_20[0][0]']              \n",
      "                                                                                                  \n",
      " conv2d_65 (Conv2D)          (None, None, None, 3)        51        ['activation_20[0][0]']       \n",
      "                                                                                                  \n",
      "==================================================================================================\n",
      "Total params: 165795 (647.64 KB)\n",
      "Trainable params: 165795 (647.64 KB)\n",
      "Non-trainable params: 0 (0.00 Byte)\n",
      "__________________________________________________________________________________________________\n"
     ]
    },
    {
     "ename": "FileNotFoundError",
     "evalue": "[Errno 2] Unable to synchronously open file (unable to open file: name = '/home/MERHAWI/fsdl/text_recognizer/weights/LineDetectorModel_IAMParagraphsDataset_fcn_weights.h5', errno = 2, error message = 'No such file or directory', flags = 0, o_flags = 0)",
     "output_type": "error",
     "traceback": [
      "\u001b[0;31m---------------------------------------------------------------------------\u001b[0m",
      "\u001b[0;31mFileNotFoundError\u001b[0m                         Traceback (most recent call last)",
      "Cell \u001b[0;32mIn[11], line 2\u001b[0m\n\u001b[1;32m      1\u001b[0m line_detector_model \u001b[38;5;241m=\u001b[39m LineDetectorModel()\n\u001b[0;32m----> 2\u001b[0m \u001b[43mline_detector_model\u001b[49m\u001b[38;5;241;43m.\u001b[39;49m\u001b[43mload_weights\u001b[49m\u001b[43m(\u001b[49m\u001b[43m)\u001b[49m\n",
      "File \u001b[0;32m~/fsdl/notebooks/../text_recognizer/models/base.py:87\u001b[0m, in \u001b[0;36mModel.load_weights\u001b[0;34m(self)\u001b[0m\n\u001b[1;32m     86\u001b[0m \u001b[38;5;28;01mdef\u001b[39;00m\u001b[38;5;250m \u001b[39m\u001b[38;5;21mload_weights\u001b[39m(\u001b[38;5;28mself\u001b[39m):\n\u001b[0;32m---> 87\u001b[0m     \u001b[38;5;28;43mself\u001b[39;49m\u001b[38;5;241;43m.\u001b[39;49m\u001b[43mnetwork\u001b[49m\u001b[38;5;241;43m.\u001b[39;49m\u001b[43mload_weights\u001b[49m\u001b[43m(\u001b[49m\u001b[38;5;28;43mself\u001b[39;49m\u001b[38;5;241;43m.\u001b[39;49m\u001b[43mweights_filename\u001b[49m\u001b[43m)\u001b[49m\n",
      "File \u001b[0;32m~/.local/share/virtualenvs/fsdl--bBD6cny/lib/python3.9/site-packages/keras/src/utils/traceback_utils.py:70\u001b[0m, in \u001b[0;36mfilter_traceback.<locals>.error_handler\u001b[0;34m(*args, **kwargs)\u001b[0m\n\u001b[1;32m     67\u001b[0m     filtered_tb \u001b[38;5;241m=\u001b[39m _process_traceback_frames(e\u001b[38;5;241m.\u001b[39m__traceback__)\n\u001b[1;32m     68\u001b[0m     \u001b[38;5;66;03m# To get the full stack trace, call:\u001b[39;00m\n\u001b[1;32m     69\u001b[0m     \u001b[38;5;66;03m# `tf.debugging.disable_traceback_filtering()`\u001b[39;00m\n\u001b[0;32m---> 70\u001b[0m     \u001b[38;5;28;01mraise\u001b[39;00m e\u001b[38;5;241m.\u001b[39mwith_traceback(filtered_tb) \u001b[38;5;28;01mfrom\u001b[39;00m\u001b[38;5;250m \u001b[39m\u001b[38;5;28;01mNone\u001b[39;00m\n\u001b[1;32m     71\u001b[0m \u001b[38;5;28;01mfinally\u001b[39;00m:\n\u001b[1;32m     72\u001b[0m     \u001b[38;5;28;01mdel\u001b[39;00m filtered_tb\n",
      "File \u001b[0;32m~/.local/share/virtualenvs/fsdl--bBD6cny/lib/python3.9/site-packages/h5py/_hl/files.py:561\u001b[0m, in \u001b[0;36mFile.__init__\u001b[0;34m(self, name, mode, driver, libver, userblock_size, swmr, rdcc_nslots, rdcc_nbytes, rdcc_w0, track_order, fs_strategy, fs_persist, fs_threshold, fs_page_size, page_buf_size, min_meta_keep, min_raw_keep, locking, alignment_threshold, alignment_interval, meta_block_size, **kwds)\u001b[0m\n\u001b[1;32m    552\u001b[0m     fapl \u001b[38;5;241m=\u001b[39m make_fapl(driver, libver, rdcc_nslots, rdcc_nbytes, rdcc_w0,\n\u001b[1;32m    553\u001b[0m                      locking, page_buf_size, min_meta_keep, min_raw_keep,\n\u001b[1;32m    554\u001b[0m                      alignment_threshold\u001b[38;5;241m=\u001b[39malignment_threshold,\n\u001b[1;32m    555\u001b[0m                      alignment_interval\u001b[38;5;241m=\u001b[39malignment_interval,\n\u001b[1;32m    556\u001b[0m                      meta_block_size\u001b[38;5;241m=\u001b[39mmeta_block_size,\n\u001b[1;32m    557\u001b[0m                      \u001b[38;5;241m*\u001b[39m\u001b[38;5;241m*\u001b[39mkwds)\n\u001b[1;32m    558\u001b[0m     fcpl \u001b[38;5;241m=\u001b[39m make_fcpl(track_order\u001b[38;5;241m=\u001b[39mtrack_order, fs_strategy\u001b[38;5;241m=\u001b[39mfs_strategy,\n\u001b[1;32m    559\u001b[0m                      fs_persist\u001b[38;5;241m=\u001b[39mfs_persist, fs_threshold\u001b[38;5;241m=\u001b[39mfs_threshold,\n\u001b[1;32m    560\u001b[0m                      fs_page_size\u001b[38;5;241m=\u001b[39mfs_page_size)\n\u001b[0;32m--> 561\u001b[0m     fid \u001b[38;5;241m=\u001b[39m make_fid(name, mode, userblock_size, fapl, fcpl, swmr\u001b[38;5;241m=\u001b[39mswmr)\n\u001b[1;32m    563\u001b[0m \u001b[38;5;28;01mif\u001b[39;00m \u001b[38;5;28misinstance\u001b[39m(libver, \u001b[38;5;28mtuple\u001b[39m):\n\u001b[1;32m    564\u001b[0m     \u001b[38;5;28mself\u001b[39m\u001b[38;5;241m.\u001b[39m_libver \u001b[38;5;241m=\u001b[39m libver\n",
      "File \u001b[0;32m~/.local/share/virtualenvs/fsdl--bBD6cny/lib/python3.9/site-packages/h5py/_hl/files.py:235\u001b[0m, in \u001b[0;36mmake_fid\u001b[0;34m(name, mode, userblock_size, fapl, fcpl, swmr)\u001b[0m\n\u001b[1;32m    233\u001b[0m     \u001b[38;5;28;01mif\u001b[39;00m swmr \u001b[38;5;129;01mand\u001b[39;00m swmr_support:\n\u001b[1;32m    234\u001b[0m         flags \u001b[38;5;241m|\u001b[39m\u001b[38;5;241m=\u001b[39m h5f\u001b[38;5;241m.\u001b[39mACC_SWMR_READ\n\u001b[0;32m--> 235\u001b[0m     fid \u001b[38;5;241m=\u001b[39m \u001b[43mh5f\u001b[49m\u001b[38;5;241;43m.\u001b[39;49m\u001b[43mopen\u001b[49m\u001b[43m(\u001b[49m\u001b[43mname\u001b[49m\u001b[43m,\u001b[49m\u001b[43m \u001b[49m\u001b[43mflags\u001b[49m\u001b[43m,\u001b[49m\u001b[43m \u001b[49m\u001b[43mfapl\u001b[49m\u001b[38;5;241;43m=\u001b[39;49m\u001b[43mfapl\u001b[49m\u001b[43m)\u001b[49m\n\u001b[1;32m    236\u001b[0m \u001b[38;5;28;01melif\u001b[39;00m mode \u001b[38;5;241m==\u001b[39m \u001b[38;5;124m'\u001b[39m\u001b[38;5;124mr+\u001b[39m\u001b[38;5;124m'\u001b[39m:\n\u001b[1;32m    237\u001b[0m     fid \u001b[38;5;241m=\u001b[39m h5f\u001b[38;5;241m.\u001b[39mopen(name, h5f\u001b[38;5;241m.\u001b[39mACC_RDWR, fapl\u001b[38;5;241m=\u001b[39mfapl)\n",
      "File \u001b[0;32mh5py/_objects.pyx:54\u001b[0m, in \u001b[0;36mh5py._objects.with_phil.wrapper\u001b[0;34m()\u001b[0m\n",
      "File \u001b[0;32mh5py/_objects.pyx:55\u001b[0m, in \u001b[0;36mh5py._objects.with_phil.wrapper\u001b[0;34m()\u001b[0m\n",
      "File \u001b[0;32mh5py/h5f.pyx:102\u001b[0m, in \u001b[0;36mh5py.h5f.open\u001b[0;34m()\u001b[0m\n",
      "\u001b[0;31mFileNotFoundError\u001b[0m: [Errno 2] Unable to synchronously open file (unable to open file: name = '/home/MERHAWI/fsdl/text_recognizer/weights/LineDetectorModel_IAMParagraphsDataset_fcn_weights.h5', errno = 2, error message = 'No such file or directory', flags = 0, o_flags = 0)"
     ]
    }
   ],
   "source": [
    "line_detector_model = LineDetectorModel()\n",
    "line_detector_model.load_weights()"
   ]
  },
  {
   "cell_type": "code",
   "execution_count": null,
   "id": "b3bf3633-1610-45cf-ac9a-c7eca3a64c03",
   "metadata": {},
   "outputs": [],
   "source": [
    "for ind in range(5):\n",
    "    image = paragraphs_dataset.x_test[ind]\n",
    "    gt = paragraphs_dataset.y_test[ind].argmax(-1)\n",
    "    pred = line_detector_model.predict_on_image(image).argmax(-1)\n",
    "\n",
    "    fig = plt.figure(figsize=(15,15))\n",
    "    ax1 = fig.add_subplot(131)\n",
    "    ax1.matshow(image, cmap='gray')\n",
    "    ax2 = fig.add_subplot(132)\n",
    "    ax2.matshow(gt, cmap='gray')\n",
    "    ax3 = fig.add_subplot(133)\n",
    "    ax3.matshow(gt, cmap = 'gray')"
   ]
  },
  {
   "cell_type": "code",
   "execution_count": null,
   "id": "8a0014aa-30bc-4f8b-ac36-10c7b304111d",
   "metadata": {},
   "outputs": [],
   "source": [
    "x_batch, y_batch = paragraphs_dataset.x_train[:4], paragraphs_dataset.y_train[:4]\n",
    "x_batch_aug, y_batch_aug = line_detector_model.augment_batch(x_batch, y_batch)\n",
    "\n",
    "for ind in range(x_batch_aug.shape[0]):\n",
    "    fig = plt.figure(figsize = (15,5))\n",
    "    ax1 = fig.add_subplot(121)\n",
    "    ax1.matshow(x_batch_aug[ind], cmap='gray')\n",
    "    ax2 = fig.add_subplot(122)\n",
    "    ax1.matshow(y_batch_aug[ind], cmap='gray')"
   ]
  }
 ],
 "metadata": {
  "kernelspec": {
   "display_name": "Python 3 (ipykernel)",
   "language": "python",
   "name": "python3"
  },
  "language_info": {
   "codemirror_mode": {
    "name": "ipython",
    "version": 3
   },
   "file_extension": ".py",
   "mimetype": "text/x-python",
   "name": "python",
   "nbconvert_exporter": "python",
   "pygments_lexer": "ipython3",
   "version": "3.9.21"
  }
 },
 "nbformat": 4,
 "nbformat_minor": 5
}
