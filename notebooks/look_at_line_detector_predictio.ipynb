{
 "cells": [
  {
   "cell_type": "code",
   "execution_count": 1,
   "id": "746f14b8-1cc1-41f3-8190-1c14529eba8f",
   "metadata": {},
   "outputs": [],
   "source": [
    "%load_ext autoreload\n",
    "%autoreload 2"
   ]
  },
  {
   "cell_type": "code",
   "execution_count": 6,
   "id": "77a4bb8d-51a1-4419-9801-7f29b8843068",
   "metadata": {},
   "outputs": [],
   "source": [
    "import cv2\n",
    "import numpy as np\n",
    "import matplotlib.pyplot as plt\n",
    "%matplotlib inline\n",
    "\n",
    "try:\n",
    "    import text_recognizer\n",
    "except ImportError:\n",
    "    import sys\n",
    "    sys.path.append('..')\n",
    "\n",
    "from text_recognizer.datasets import IamDataset\n",
    "from text_recognizer.datasets.iam_paragraphs_dataset import IAMParagraphsDataset\n",
    "from text_recognizer.models.line_detector_model import LineDetectorModel\n",
    "from text_recognizer import util"
   ]
  },
  {
   "cell_type": "code",
   "execution_count": 7,
   "id": "71abadf4-36e2-4f42-8fd9-8f7af8e44b0b",
   "metadata": {},
   "outputs": [
    {
     "name": "stdout",
     "output_type": "stream",
     "text": [
      "Loading IAM paragraph crops and ground truth from image files...\n",
      "IAM Paragraphs Dataset\n",
      "Num classes: 3\n",
      "Train: (1229, 256, 256) (1229, 256, 256, 3)\n",
      "Test: (308, 256, 256) (308, 256, 256, 3)\n",
      "\n"
     ]
    }
   ],
   "source": [
    "paragraphs_dataset = IAMParagraphsDataset()\n",
    "paragraphs_dataset.load_or_generate_data()\n",
    "print(paragraphs_dataset)"
   ]
  },
  {
   "cell_type": "code",
   "execution_count": null,
   "id": "120ffd21-c5bd-4668-8615-6c08f43eb035",
   "metadata": {},
   "outputs": [],
   "source": [
    "line_detector_model = LineDetectorModel()\n",
    "line_detector_model.load_weights()"
   ]
  },
  {
   "cell_type": "code",
   "execution_count": null,
   "id": "b3bf3633-1610-45cf-ac9a-c7eca3a64c03",
   "metadata": {},
   "outputs": [],
   "source": [
    "for ind in range(5):\n",
    "    image = paragraphs_dataset.x_test[ind]\n",
    "    gt = paragraphs_dataset.y_test[ind].argmax(-1)\n",
    "    pred = line_detector_model.predict_on_image(image).argmax(-1)\n",
    "\n",
    "    fig = plt.figure(figsize=(15,15))\n",
    "    ax1 = fig.add_subplot(131)\n",
    "    ax1.matshow(image, cmap='gray')\n",
    "    ax2 = fig.add_subplot(132)\n",
    "    ax2.matshow(gt, cmap='gray')\n",
    "    ax3 = fig.add_subplot(133)\n",
    "    ax3.matshow(gt, cmap = 'gray')"
   ]
  }
 ],
 "metadata": {
  "kernelspec": {
   "display_name": "Python 3 (ipykernel)",
   "language": "python",
   "name": "python3"
  },
  "language_info": {
   "codemirror_mode": {
    "name": "ipython",
    "version": 3
   },
   "file_extension": ".py",
   "mimetype": "text/x-python",
   "name": "python",
   "nbconvert_exporter": "python",
   "pygments_lexer": "ipython3",
   "version": "3.9.21"
  }
 },
 "nbformat": 4,
 "nbformat_minor": 5
}
